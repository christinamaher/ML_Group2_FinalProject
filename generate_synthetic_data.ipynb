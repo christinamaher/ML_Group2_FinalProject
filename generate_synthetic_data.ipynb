{
 "cells": [
  {
   "cell_type": "markdown",
   "metadata": {},
   "source": [
    "## Generate synthetic data based on MIMIC-III\n",
    "\n",
    "References: https://www.nature.com/articles/sdata201635 ; https://physionet.org/content/mimiciii/1.4/"
   ]
  },
  {
   "cell_type": "code",
   "execution_count": null,
   "metadata": {},
   "outputs": [
    {
     "data": {
      "text/plain": [
       "3"
      ]
     },
     "metadata": {},
     "output_type": "display_data"
    }
   ],
   "source": [
    "import numpy as np\n",
    "import pandas as pd\n",
    "\n",
    "# Parameters\n",
    "n_patients = 1000\n",
    "n_timepoints = 48  # hourly measurements\n",
    "time_index = [f\"t{i}\" for i in range(n_timepoints)]\n",
    "\n",
    "# Features to simulate\n",
    "features = [\n",
    "    \"heart_rate\", \"systolic_bp\", \"diastolic_bp\", \"resp_rate\",\n",
    "    \"temperature\", \"spo2\", \"glucose\", \"creatinine\", \"wbc\", \"hematocrit\"\n",
    "]\n",
    "\n",
    "# Demographic categories\n",
    "gender_choices = ['Male', 'Female']\n",
    "race_choices = ['White', 'Black', 'Hispanic', 'Asian', 'Other']\n",
    "\n",
    "# Simulate data\n",
    "data = []\n",
    "for patient_id in range(n_patients):\n",
    "    patient_data = {\n",
    "        \"patient_id\": patient_id,\n",
    "        \"age\": np.random.randint(18, 90),\n",
    "        \"gender\": np.random.choice(gender_choices),\n",
    "        \"race\": np.random.choice(race_choices)\n",
    "    }\n",
    "    \n",
    "    # Simulate time-series features\n",
    "    for feature in features:\n",
    "        mean = {\n",
    "            \"heart_rate\": 75,\n",
    "            \"systolic_bp\": 120,\n",
    "            \"diastolic_bp\": 80,\n",
    "            \"resp_rate\": 18,\n",
    "            \"temperature\": 98.6,\n",
    "            \"spo2\": 97,\n",
    "            \"glucose\": 100,\n",
    "            \"creatinine\": 1.0,\n",
    "            \"wbc\": 7.0,\n",
    "            \"hematocrit\": 42\n",
    "        }[feature]\n",
    "        std = mean * 0.1\n",
    "        values = np.clip(np.random.normal(loc=mean, scale=std, size=n_timepoints), 0, None)\n",
    "        for t, v in zip(time_index, values):\n",
    "            patient_data[f\"{feature}_{t}\"] = v\n",
    "\n",
    "    data.append(patient_data)\n",
    "\n",
    "# Convert to DataFrame\n",
    "df = pd.DataFrame(data)\n",
    "\n",
    "# Add readmission outcome (probability based on demographics)\n",
    "def simulate_readmission(row):\n",
    "    p = 0.15\n",
    "    if row['age'] > 70:\n",
    "        p += 0.05\n",
    "    if row['gender'] == 'Male':\n",
    "        p += 0.02\n",
    "    if row['race'] in ['Black', 'Hispanic']:\n",
    "        p += 0.03\n",
    "    return int(np.random.rand() < p)\n",
    "\n",
    "df[\"readmitted\"] = df.apply(simulate_readmission, axis=1)\n",
    "\n",
    "# Done\n",
    "print(df.head())"
   ]
  }
 ],
 "metadata": {
  "language_info": {
   "name": "python"
  }
 },
 "nbformat": 4,
 "nbformat_minor": 2
}
